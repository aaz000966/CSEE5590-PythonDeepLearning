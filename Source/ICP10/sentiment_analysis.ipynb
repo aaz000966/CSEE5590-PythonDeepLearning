{
  "nbformat": 4,
  "nbformat_minor": 0,
  "metadata": {
    "colab": {
      "name": "sentiment_analysis.ipynb",
      "provenance": [],
      "machine_shape": "hm"
    },
    "kernelspec": {
      "name": "python3",
      "display_name": "Python 3"
    }
  },
  "cells": [
    {
      "cell_type": "code",
      "metadata": {
        "id": "YCGsF9irW4Cz",
        "colab_type": "code",
        "colab": {}
      },
      "source": [
        "from keras.models import Sequential\n",
        "from keras import layers\n",
        "from keras.preprocessing.text import Tokenizer\n",
        "import pandas as pd\n",
        "from keras.layers import Embedding, Flatten, Dense\n",
        "from sklearn import preprocessing\n",
        "from keras.preprocessing.sequence import pad_sequences\n",
        "from sklearn.model_selection import train_test_split"
      ],
      "execution_count": 0,
      "outputs": []
    },
    {
      "cell_type": "code",
      "metadata": {
        "id": "MNaC3jEBW9dw",
        "colab_type": "code",
        "outputId": "6ff75774-b1e6-4b51-e01a-4b37fc3cdb2c",
        "colab": {
          "base_uri": "https://localhost:8080/",
          "height": 198
        }
      },
      "source": [
        "df = pd.read_csv('imdb_master.csv',encoding='latin-1')\n",
        "\n",
        "df.head()\n"
      ],
      "execution_count": 23,
      "outputs": [
        {
          "output_type": "execute_result",
          "data": {
            "text/html": [
              "<div>\n",
              "<style scoped>\n",
              "    .dataframe tbody tr th:only-of-type {\n",
              "        vertical-align: middle;\n",
              "    }\n",
              "\n",
              "    .dataframe tbody tr th {\n",
              "        vertical-align: top;\n",
              "    }\n",
              "\n",
              "    .dataframe thead th {\n",
              "        text-align: right;\n",
              "    }\n",
              "</style>\n",
              "<table border=\"1\" class=\"dataframe\">\n",
              "  <thead>\n",
              "    <tr style=\"text-align: right;\">\n",
              "      <th></th>\n",
              "      <th>Unnamed: 0</th>\n",
              "      <th>type</th>\n",
              "      <th>review</th>\n",
              "      <th>label</th>\n",
              "      <th>file</th>\n",
              "    </tr>\n",
              "  </thead>\n",
              "  <tbody>\n",
              "    <tr>\n",
              "      <th>0</th>\n",
              "      <td>0</td>\n",
              "      <td>test</td>\n",
              "      <td>Once again Mr. Costner has dragged out a movie...</td>\n",
              "      <td>neg</td>\n",
              "      <td>0_2.txt</td>\n",
              "    </tr>\n",
              "    <tr>\n",
              "      <th>1</th>\n",
              "      <td>1</td>\n",
              "      <td>test</td>\n",
              "      <td>This is an example of why the majority of acti...</td>\n",
              "      <td>neg</td>\n",
              "      <td>10000_4.txt</td>\n",
              "    </tr>\n",
              "    <tr>\n",
              "      <th>2</th>\n",
              "      <td>2</td>\n",
              "      <td>test</td>\n",
              "      <td>First of all I hate those moronic rappers, who...</td>\n",
              "      <td>neg</td>\n",
              "      <td>10001_1.txt</td>\n",
              "    </tr>\n",
              "    <tr>\n",
              "      <th>3</th>\n",
              "      <td>3</td>\n",
              "      <td>test</td>\n",
              "      <td>Not even the Beatles could write songs everyon...</td>\n",
              "      <td>neg</td>\n",
              "      <td>10002_3.txt</td>\n",
              "    </tr>\n",
              "    <tr>\n",
              "      <th>4</th>\n",
              "      <td>4</td>\n",
              "      <td>test</td>\n",
              "      <td>Brass pictures (movies is not a fitting word f...</td>\n",
              "      <td>neg</td>\n",
              "      <td>10003_3.txt</td>\n",
              "    </tr>\n",
              "  </tbody>\n",
              "</table>\n",
              "</div>"
            ],
            "text/plain": [
              "   Unnamed: 0  type  ... label         file\n",
              "0           0  test  ...   neg      0_2.txt\n",
              "1           1  test  ...   neg  10000_4.txt\n",
              "2           2  test  ...   neg  10001_1.txt\n",
              "3           3  test  ...   neg  10002_3.txt\n",
              "4           4  test  ...   neg  10003_3.txt\n",
              "\n",
              "[5 rows x 5 columns]"
            ]
          },
          "metadata": {
            "tags": []
          },
          "execution_count": 23
        }
      ]
    },
    {
      "cell_type": "code",
      "metadata": {
        "id": "GFMZLdBLcc9K",
        "colab_type": "code",
        "colab": {}
      },
      "source": [
        "# max_review_len"
      ],
      "execution_count": 0,
      "outputs": []
    },
    {
      "cell_type": "code",
      "metadata": {
        "id": "JPId0Lwep3vO",
        "colab_type": "code",
        "outputId": "09861f7c-c03e-4142-cd76-527a81edb601",
        "colab": {
          "base_uri": "https://localhost:8080/",
          "height": 90
        }
      },
      "source": [
        "df.label.value_counts()\n"
      ],
      "execution_count": 25,
      "outputs": [
        {
          "output_type": "execute_result",
          "data": {
            "text/plain": [
              "unsup    50000\n",
              "pos      25000\n",
              "neg      25000\n",
              "Name: label, dtype: int64"
            ]
          },
          "metadata": {
            "tags": []
          },
          "execution_count": 25
        }
      ]
    },
    {
      "cell_type": "markdown",
      "metadata": {
        "id": "Df6hooweXBJo",
        "colab_type": "text"
      },
      "source": [
        "tokenizing data"
      ]
    },
    {
      "cell_type": "code",
      "metadata": {
        "id": "PSUceLgkW-wI",
        "colab_type": "code",
        "colab": {}
      },
      "source": [
        "\n",
        "df = df.drop(df[df.label == 'unsup'].index)"
      ],
      "execution_count": 0,
      "outputs": []
    },
    {
      "cell_type": "code",
      "metadata": {
        "id": "1lMcGzZZwoBG",
        "colab_type": "code",
        "colab": {}
      },
      "source": [
        "sentences = df['review'].values\n",
        "y = df['label'].values\n",
        "max_review_len = max([len(s.split()) for s in sentences])\n"
      ],
      "execution_count": 0,
      "outputs": []
    },
    {
      "cell_type": "code",
      "metadata": {
        "id": "dWWJfivVwq-k",
        "colab_type": "code",
        "outputId": "cf0b7966-3617-4a5b-c595-56fa5db55534",
        "colab": {
          "base_uri": "https://localhost:8080/",
          "height": 35
        }
      },
      "source": [
        "tokenizer = Tokenizer(num_words=2000)\n",
        "tokenizer.fit_on_texts(sentences)\n",
        "\n",
        "vocab_size = len(tokenizer.word_index)+1\n",
        "vocab_size"
      ],
      "execution_count": 28,
      "outputs": [
        {
          "output_type": "execute_result",
          "data": {
            "text/plain": [
              "123682"
            ]
          },
          "metadata": {
            "tags": []
          },
          "execution_count": 28
        }
      ]
    },
    {
      "cell_type": "markdown",
      "metadata": {
        "id": "pR78DrA6XD48",
        "colab_type": "text"
      },
      "source": [
        "getting the vocabulary of data\n"
      ]
    },
    {
      "cell_type": "code",
      "metadata": {
        "id": "pWy9t9pLXFki",
        "colab_type": "code",
        "colab": {}
      },
      "source": [
        "sentences = tokenizer.texts_to_matrix(sentences)\n",
        "padded_docs = pad_sequences(sentences,maxlen=max_review_len)\n"
      ],
      "execution_count": 0,
      "outputs": []
    },
    {
      "cell_type": "code",
      "metadata": {
        "id": "OuJJ6l52XHTw",
        "colab_type": "code",
        "colab": {}
      },
      "source": [
        "le = preprocessing.LabelEncoder()\n",
        "y = le.fit_transform(y)\n",
        "X_train, X_test, y_train, y_test = train_test_split(sentences, y, test_size=0.25, random_state=1000)\n"
      ],
      "execution_count": 0,
      "outputs": []
    },
    {
      "cell_type": "code",
      "metadata": {
        "id": "F85cOpw67z23",
        "colab_type": "code",
        "outputId": "b1eccc39-40e7-44c8-d0dc-20091c9d1f78",
        "colab": {
          "base_uri": "https://localhost:8080/",
          "height": 254
        }
      },
      "source": [
        "model = Sequential()\n",
        "model.add(layers.Dense(300,input_dim=2000, activation='relu'))\n",
        "model.add(layers.Dense(3, activation='softmax'))\n",
        "model.compile(loss='sparse_categorical_crossentropy',optimizer='adam',metrics=['acc'])\n",
        "history=model.fit(X_train,y_train, epochs=5, verbose=True, validation_data=(X_test,y_test), batch_size=256)\n",
        "[test_loss, test_acc] = model.evaluate(X_test,y_test)\n",
        "print(\"Evaluation result on Test Data : Loss = {:0.3f}, accuracy = {:0.3f}\".format(test_loss, test_acc))\n"
      ],
      "execution_count": 32,
      "outputs": [
        {
          "output_type": "stream",
          "text": [
            "Train on 37500 samples, validate on 12500 samples\n",
            "Epoch 1/5\n",
            "37500/37500 [==============================] - 4s 102us/step - loss: 0.3494 - acc: 0.8515 - val_loss: 0.3126 - val_acc: 0.8715\n",
            "Epoch 2/5\n",
            "37500/37500 [==============================] - 4s 98us/step - loss: 0.2656 - acc: 0.8927 - val_loss: 0.3022 - val_acc: 0.8754\n",
            "Epoch 3/5\n",
            "37500/37500 [==============================] - 4s 98us/step - loss: 0.2252 - acc: 0.9095 - val_loss: 0.2944 - val_acc: 0.8776\n",
            "Epoch 4/5\n",
            "37500/37500 [==============================] - 4s 99us/step - loss: 0.1630 - acc: 0.9416 - val_loss: 0.3027 - val_acc: 0.8774\n",
            "Epoch 5/5\n",
            "37500/37500 [==============================] - 4s 96us/step - loss: 0.0921 - acc: 0.9765 - val_loss: 0.3144 - val_acc: 0.8774\n",
            "12500/12500 [==============================] - 1s 48us/step\n",
            "Evaluation result on Test Data : Loss = 0.314, accuracy = 0.877\n"
          ],
          "name": "stdout"
        }
      ]
    },
    {
      "cell_type": "code",
      "metadata": {
        "id": "nTXD8OOS0Wtf",
        "colab_type": "code",
        "outputId": "94b355b9-f1c1-486c-b77b-fee0ea48e5b0",
        "colab": {
          "base_uri": "https://localhost:8080/",
          "height": 272
        }
      },
      "source": [
        "from keras.utils import plot_model\n",
        "plot_model(model, to_file='model.png')"
      ],
      "execution_count": 33,
      "outputs": [
        {
          "output_type": "execute_result",
          "data": {
            "image/png": "[encoded data removed]",
            "text/plain": [
              "<IPython.core.display.Image object>"
            ]
          },
          "metadata": {
            "tags": []
          },
          "execution_count": 33
        }
      ]
    },
    {
      "cell_type": "code",
      "metadata": {
        "id": "rkt7urHJ1z44",
        "colab_type": "code",
        "outputId": "37e07337-cfaa-4790-a984-4771f973d102",
        "colab": {
          "base_uri": "https://localhost:8080/",
          "height": 827
        }
      },
      "source": [
        "import matplotlib.pyplot as plt\n",
        "\n",
        "\n",
        "# Plot training & validation accuracy values\n",
        "plt.plot(history.history['acc'])\n",
        "plt.plot(history.history['val_acc'])\n",
        "plt.title('Model accuracy')\n",
        "plt.ylabel('Accuracy')\n",
        "plt.xlabel('Epoch')\n",
        "plt.legend(['Train', 'Test'], loc='upper left')\n",
        "plt.show()\n",
        "\n",
        "# Plot training & validation loss values\n",
        "plt.plot(history.history['loss'])\n",
        "plt.plot(history.history['val_loss'])\n",
        "plt.title('Model loss')\n",
        "plt.ylabel('Loss')\n",
        "plt.xlabel('Epoch')\n",
        "plt.legend(['Train', 'Test'], loc='upper left')\n",
        "plt.show()\n",
        "\n",
        "model.summary()\n",
        "\n",
        "score = model.evaluate(X_test,y_test,verbose=1)\n",
        "accuracy = 100 * score[1]\n",
        "\n",
        "print(\"Pre-training accuracy: %.4f%%\" % accuracy) "
      ],
      "execution_count": 34,
      "outputs": [
        {
          "output_type": "display_data",
          "data": {
            "image/png": "[encoded data removed]",
            "text/plain": [
              "<Figure size 432x288 with 1 Axes>"
            ]
          },
          "metadata": {
            "tags": [],
            "needs_background": "light"
          }
        },
        {
          "output_type": "display_data",
          "data": {
            "image/png": "[encoded data removed]",
            "text/plain": [
              "<Figure size 432x288 with 1 Axes>"
            ]
          },
          "metadata": {
            "tags": [],
            "needs_background": "light"
          }
        },
        {
          "output_type": "stream",
          "text": [
            "Model: \"sequential_8\"\n",
            "_________________________________________________________________\n",
            "Layer (type)                 Output Shape              Param #   \n",
            "=================================================================\n",
            "dense_15 (Dense)             (None, 300)               600300    \n",
            "_________________________________________________________________\n",
            "dense_16 (Dense)             (None, 3)                 903       \n",
            "=================================================================\n",
            "Total params: 601,203\n",
            "Trainable params: 601,203\n",
            "Non-trainable params: 0\n",
            "_________________________________________________________________\n",
            "12500/12500 [==============================] - 1s 47us/step\n",
            "Pre-training accuracy: 87.7360%\n"
          ],
          "name": "stdout"
        }
      ]
    },
    {
      "cell_type": "code",
      "metadata": {
        "id": "YcW4UmjSacL6",
        "colab_type": "code",
        "colab": {}
      },
      "source": [
        ""
      ],
      "execution_count": 0,
      "outputs": []
    },
    {
      "cell_type": "code",
      "metadata": {
        "id": "mvcs21WkIxsL",
        "colab_type": "code",
        "colab": {
          "base_uri": "https://localhost:8080/",
          "height": 308
        },
        "outputId": "c587b08c-7c5c-4862-c0b5-71dc0a969f5c"
      },
      "source": [
        "model2 = Sequential()\n",
        "\n",
        "\n",
        "model2.add(Embedding(input_dim = 2000, output_dim = 50, input_length=2000))\n",
        "model2.add(Flatten())\n",
        "model2.add(layers.Dense(300,input_dim=50, activation='relu'))\n",
        "model2.add(layers.Dense(3,activation='softmax'))\n",
        "model2.compile(loss='sparse_categorical_crossentropy',optimizer='adam',metrics=['acc'])\n",
        "model2.summary()\n",
        "\n"
      ],
      "execution_count": 35,
      "outputs": [
        {
          "output_type": "stream",
          "text": [
            "Model: \"sequential_9\"\n",
            "_________________________________________________________________\n",
            "Layer (type)                 Output Shape              Param #   \n",
            "=================================================================\n",
            "embedding_1 (Embedding)      (None, 2000, 50)          100000    \n",
            "_________________________________________________________________\n",
            "flatten_1 (Flatten)          (None, 100000)            0         \n",
            "_________________________________________________________________\n",
            "dense_17 (Dense)             (None, 300)               30000300  \n",
            "_________________________________________________________________\n",
            "dense_18 (Dense)             (None, 3)                 903       \n",
            "=================================================================\n",
            "Total params: 30,101,203\n",
            "Trainable params: 30,101,203\n",
            "Non-trainable params: 0\n",
            "_________________________________________________________________\n"
          ],
          "name": "stdout"
        }
      ]
    },
    {
      "cell_type": "code",
      "metadata": {
        "id": "5HK2aPKtjRt5",
        "colab_type": "code",
        "outputId": "9c6d2bfc-4e4e-4bee-ff02-ced21e665a8f",
        "colab": {
          "base_uri": "https://localhost:8080/",
          "height": 310
        }
      },
      "source": [
        "history2=model2.fit(X_train,y_train, epochs=6, verbose=True, validation_data=(X_test,y_test), batch_size=256)\n"
      ],
      "execution_count": 36,
      "outputs": [
        {
          "output_type": "stream",
          "text": [
            "/usr/local/lib/python3.6/dist-packages/tensorflow/python/framework/indexed_slices.py:434: UserWarning: Converting sparse IndexedSlices to a dense Tensor of unknown shape. This may consume a large amount of memory.\n",
            "  \"Converting sparse IndexedSlices to a dense Tensor of unknown shape. \"\n"
          ],
          "name": "stderr"
        },
        {
          "output_type": "stream",
          "text": [
            "Train on 37500 samples, validate on 12500 samples\n",
            "Epoch 1/6\n",
            "37500/37500 [==============================] - 97s 3ms/step - loss: 0.6716 - acc: 0.7688 - val_loss: 0.3043 - val_acc: 0.8777\n",
            "Epoch 2/6\n",
            "37500/37500 [==============================] - 99s 3ms/step - loss: 0.2849 - acc: 0.8817 - val_loss: 0.2887 - val_acc: 0.8789\n",
            "Epoch 3/6\n",
            "37500/37500 [==============================] - 97s 3ms/step - loss: 0.2645 - acc: 0.8886 - val_loss: 0.2912 - val_acc: 0.8770\n",
            "Epoch 4/6\n",
            "37500/37500 [==============================] - 96s 3ms/step - loss: 0.2532 - acc: 0.8951 - val_loss: 0.2903 - val_acc: 0.8800\n",
            "Epoch 5/6\n",
            "37500/37500 [==============================] - 96s 3ms/step - loss: 0.2371 - acc: 0.9017 - val_loss: 0.2926 - val_acc: 0.8774\n",
            "Epoch 6/6\n",
            "37500/37500 [==============================] - 97s 3ms/step - loss: 0.2176 - acc: 0.9100 - val_loss: 0.3002 - val_acc: 0.8752\n"
          ],
          "name": "stdout"
        }
      ]
    },
    {
      "cell_type": "code",
      "metadata": {
        "id": "n7MTY7GNiHR6",
        "colab_type": "code",
        "outputId": "712e908b-ee88-4e75-b848-ad113e2758be",
        "colab": {
          "base_uri": "https://localhost:8080/",
          "height": 54
        }
      },
      "source": [
        "[test_loss, test_acc] = model2.evaluate(X_test,y_test)\n",
        "print(\"Evaluation result on Test Data : Loss = {:0.3f}, accuracy = {:0.3f}\".format(test_loss, test_acc))\n"
      ],
      "execution_count": 37,
      "outputs": [
        {
          "output_type": "stream",
          "text": [
            "12500/12500 [==============================] - 12s 989us/step\n",
            "Evaluation result on Test Data : Loss = 0.300, accuracy = 0.875\n"
          ],
          "name": "stdout"
        }
      ]
    },
    {
      "cell_type": "code",
      "metadata": {
        "id": "xlLavtuz_Mql",
        "colab_type": "code",
        "colab": {}
      },
      "source": [
        "#To fetch 20newsgroups training dataset\n",
        "from sklearn.datasets import fetch_20newsgroups\n",
        "from keras.models import Sequential\n",
        "from keras import layers\n",
        "from keras.preprocessing.text import Tokenizer\n",
        "import pandas as pd\n",
        "from sklearn import preprocessing\n",
        "from sklearn.model_selection import train_test_split\n",
        "from sklearn.feature_extraction.text import CountVectorizer, TfidfVectorizer\n",
        "from sklearn.feature_extraction.text import TfidfTransformer\n",
        "from sklearn import metrics\n",
        "from sklearn.pipeline import Pipeline\n",
        "from sklearn.naive_bayes import MultinomialNB\n"
      ],
      "execution_count": 0,
      "outputs": []
    },
    {
      "cell_type": "code",
      "metadata": {
        "id": "PVWEU3L1HQRX",
        "colab_type": "code",
        "colab": {}
      },
      "source": [
        "twenty_train = fetch_20newsgroups(subset='train', shuffle=True)\n",
        "\n",
        "y = twenty_train.target\n",
        "sentences = twenty_train.data\n",
        "tokenizer = Tokenizer(num_words=2000)\n",
        "tokenizer.fit_on_texts(sentences)\n",
        "sentences = tokenizer.texts_to_matrix(sentences)\n",
        "le = preprocessing.LabelEncoder()\n",
        "y = le.fit_transform(y)"
      ],
      "execution_count": 0,
      "outputs": []
    },
    {
      "cell_type": "code",
      "metadata": {
        "id": "7jFwtouPGR4J",
        "colab_type": "code",
        "colab": {}
      },
      "source": [
        "X_train, X_test, y_train, y_test = train_test_split(sentences, y, test_size=0.25, random_state=1000)\n"
      ],
      "execution_count": 0,
      "outputs": []
    },
    {
      "cell_type": "code",
      "metadata": {
        "id": "svkMcX83HXDw",
        "colab_type": "code",
        "colab": {
          "base_uri": "https://localhost:8080/",
          "height": 399
        },
        "outputId": "f7c7ddec-a8b4-471a-fdad-6b7f7a8b57f7"
      },
      "source": [
        "model = Sequential()\n",
        "model.add(layers.Dense(300,input_dim=2000, activation='relu'))\n",
        "model.add(layers.Dense(20, activation='softmax'))\n",
        "model.compile(loss='sparse_categorical_crossentropy',optimizer='adam',metrics=['acc'])\n",
        "history=model.fit(X_train,y_train, epochs=10, verbose=True, validation_data=(X_test,y_test), batch_size=256)"
      ],
      "execution_count": 41,
      "outputs": [
        {
          "output_type": "stream",
          "text": [
            "Train on 8485 samples, validate on 2829 samples\n",
            "Epoch 1/10\n",
            "8485/8485 [==============================] - 1s 75us/step - loss: 2.1912 - acc: 0.4778 - val_loss: 1.3408 - val_acc: 0.7405\n",
            "Epoch 2/10\n",
            "8485/8485 [==============================] - 1s 66us/step - loss: 0.8843 - acc: 0.8302 - val_loss: 0.8312 - val_acc: 0.8059\n",
            "Epoch 3/10\n",
            "8485/8485 [==============================] - 1s 66us/step - loss: 0.5179 - acc: 0.8957 - val_loss: 0.6872 - val_acc: 0.8183\n",
            "Epoch 4/10\n",
            "8485/8485 [==============================] - 1s 65us/step - loss: 0.3570 - acc: 0.9326 - val_loss: 0.6199 - val_acc: 0.8307\n",
            "Epoch 5/10\n",
            "8485/8485 [==============================] - 1s 66us/step - loss: 0.2625 - acc: 0.9572 - val_loss: 0.5852 - val_acc: 0.8370\n",
            "Epoch 6/10\n",
            "8485/8485 [==============================] - 1s 67us/step - loss: 0.1975 - acc: 0.9727 - val_loss: 0.5755 - val_acc: 0.8360\n",
            "Epoch 7/10\n",
            "8485/8485 [==============================] - 1s 67us/step - loss: 0.1531 - acc: 0.9823 - val_loss: 0.5645 - val_acc: 0.8356\n",
            "Epoch 8/10\n",
            "8485/8485 [==============================] - 1s 67us/step - loss: 0.1188 - acc: 0.9889 - val_loss: 0.5616 - val_acc: 0.8374\n",
            "Epoch 9/10\n",
            "8485/8485 [==============================] - 1s 67us/step - loss: 0.0947 - acc: 0.9933 - val_loss: 0.5674 - val_acc: 0.8349\n",
            "Epoch 10/10\n",
            "8485/8485 [==============================] - 1s 66us/step - loss: 0.0767 - acc: 0.9952 - val_loss: 0.5728 - val_acc: 0.8307\n"
          ],
          "name": "stdout"
        }
      ]
    },
    {
      "cell_type": "code",
      "metadata": {
        "id": "XGpbXQZzHdQX",
        "colab_type": "code",
        "colab": {
          "base_uri": "https://localhost:8080/",
          "height": 54
        },
        "outputId": "9b861259-e757-4803-ea87-bfe23e61c59d"
      },
      "source": [
        "[test_loss, test_acc] = model.evaluate(X_test,y_test)\n",
        "print(\"Evaluation result on Test Data : Loss = {}, accuracy = {}\".format(test_loss, test_acc))"
      ],
      "execution_count": 42,
      "outputs": [
        {
          "output_type": "stream",
          "text": [
            "2829/2829 [==============================] - 0s 50us/step\n",
            "Evaluation result on Test Data : Loss = 0.5727914329888164, accuracy = 0.8306822180747986\n"
          ],
          "name": "stdout"
        }
      ]
    },
    {
      "cell_type": "code",
      "metadata": {
        "id": "p053BAzNH3O-",
        "colab_type": "code",
        "colab": {
          "base_uri": "https://localhost:8080/",
          "height": 827
        },
        "outputId": "a9600a85-e326-45e9-a3d8-0b91e57134eb"
      },
      "source": [
        "import matplotlib.pyplot as plt\n",
        "\n",
        "\n",
        "# Plot training & validation accuracy values\n",
        "plt.plot(history.history['acc'])\n",
        "plt.plot(history.history['val_acc'])\n",
        "plt.title('Model accuracy')\n",
        "plt.ylabel('Accuracy')\n",
        "plt.xlabel('Epoch')\n",
        "plt.legend(['Train', 'Test'], loc='upper left')\n",
        "plt.show()\n",
        "\n",
        "# Plot training & validation loss values\n",
        "plt.plot(history.history['loss'])\n",
        "plt.plot(history.history['val_loss'])\n",
        "plt.title('Model loss')\n",
        "plt.ylabel('Loss')\n",
        "plt.xlabel('Epoch')\n",
        "plt.legend(['Train', 'Test'], loc='upper left')\n",
        "plt.show()\n",
        "\n",
        "model.summary()\n",
        "\n",
        "score = model.evaluate(X_test,y_test,verbose=1)\n",
        "accuracy = 100 * score[1]\n",
        "\n",
        "print(\"Pre-training accuracy: %.4f%%\" % accuracy) "
      ],
      "execution_count": 43,
      "outputs": [
        {
          "output_type": "display_data",
          "data": {
            "image/png": "[encoded data removed]",
            "text/plain": [
              "<Figure size 432x288 with 1 Axes>"
            ]
          },
          "metadata": {
            "tags": [],
            "needs_background": "light"
          }
        },
        {
          "output_type": "display_data",
          "data": {
            "image/png": "[encoded data removed]",
            "text/plain": [
              "<Figure size 432x288 with 1 Axes>"
            ]
          },
          "metadata": {
            "tags": [],
            "needs_background": "light"
          }
        },
        {
          "output_type": "stream",
          "text": [
            "Model: \"sequential_10\"\n",
            "_________________________________________________________________\n",
            "Layer (type)                 Output Shape              Param #   \n",
            "=================================================================\n",
            "dense_19 (Dense)             (None, 300)               600300    \n",
            "_________________________________________________________________\n",
            "dense_20 (Dense)             (None, 20)                6020      \n",
            "=================================================================\n",
            "Total params: 606,320\n",
            "Trainable params: 606,320\n",
            "Non-trainable params: 0\n",
            "_________________________________________________________________\n",
            "2829/2829 [==============================] - 0s 51us/step\n",
            "Pre-training accuracy: 83.0682%\n"
          ],
          "name": "stdout"
        }
      ]
    },
    {
      "cell_type": "code",
      "metadata": {
        "id": "O2GkZ6eDISLV",
        "colab_type": "code",
        "colab": {}
      },
      "source": [
        ""
      ],
      "execution_count": 0,
      "outputs": []
    }
  ]
}